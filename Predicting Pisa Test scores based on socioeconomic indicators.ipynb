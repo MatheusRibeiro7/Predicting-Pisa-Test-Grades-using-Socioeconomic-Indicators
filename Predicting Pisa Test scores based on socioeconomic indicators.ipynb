{
 "cells": [
  {
   "cell_type": "markdown",
   "metadata": {},
   "source": [
    "# Predicting Pisa test scores based on socioeconomic indicators\n",
    "\n",
    "<br>The Pisa test is an annual test consisting of math, science and readind made to evaluate the education systems in countries around the world. The test is known for being a good way for countries to measure and improve their educational policies.\n",
    "<br>\n",
    "<br> The idea for this project is to use countries socioeconomic indicators to predict it's result on the Pisa test. The approach used was to take socioeconomic indexes like HDI and GDP per Capita, and add some unusual ones that could have an interesting result if they ended being good variables, example of this are the happiness index and the beer per capita.\n",
    "<br>\n",
    "<br> The indicators that will be featured are:\n",
    "<br>\n",
    "- HDI: which measures the human development of a country taking into consideration their life expectancy, education and per capita income\n",
    "- Education index: which measures the education attainment using the adult literacy and the expected school enrollment.\n",
    "- GDP per Capita: which measures the gross domestic product of a country divided per person.\n",
    "- Corruption perception index: which measures the perceived corruption determined by experts in the field, with 100 meaning the country is very clean and 0 very corrupt\n",
    "- Happiness score: which measures the national happiness of a country. This indicator was used to see if being happy can lead to higher grades.\n",
    "- Beer per Capita: which measures the amount of beer consumed by person in a year. The idea behind including this indicator was to see if countries who consume more alcohol have worse grades."
   ]
  },
  {
   "cell_type": "code",
   "execution_count": 1,
   "metadata": {},
   "outputs": [],
   "source": [
    "#packages\n",
    "\n",
    "import pandas as pd\n",
    "import numpy as np\n",
    "import matplotlib.pyplot as plt\n",
    "%matplotlib inline\n",
    "from bs4 import BeautifulSoup\n",
    "from urllib.request import urlopen\n",
    "import seaborn as sns\n",
    "from sklearn import linear_model\n",
    "import scipy.stats as stats\n",
    "import statsmodels.api as sm\n",
    "from statsmodels.stats.outliers_influence import variance_inflation_factor"
   ]
  },
  {
   "cell_type": "markdown",
   "metadata": {},
   "source": [
    "### Data Cleaning ###\n",
    "\n",
    "<br>The data for this project comes from different resources, first the test results, happiness score and beer per Capita all come from different csv files, while the education, corruption index and the GDP per Capita will be scrapped from their Wikipedia page.\n",
    "<br> \n",
    "<br>The csv file will be edited so only the columns that will be used in the project are kept, while some columns need to have their data type changed and values that have wrong capitalization or are bad formatted edited.\n",
    "<br>\n",
    "<br>The problem with the test data is that the test is not made in all the countries and that there is no average grade. So first an average grade for the test will be calculated for each country and then it's indicators will be scrapped.\n",
    "<br>\n",
    "<br>One premise is that the data is comes from a good resource, it's well recorded and there are no mistakes in it, also high result in an indicator will be considered as normal variance of the data and will be kept for the analysis."
   ]
  },
  {
   "cell_type": "code",
   "execution_count": 2,
   "metadata": {
    "scrolled": true
   },
   "outputs": [],
   "source": [
    "#loading and selecting the columns\n",
    "df1=pd.read_csv(\"dx.csv\")\n",
    "df1=df1[[\"Country2\",\"variable\",\"value\"]]\n",
    "countries=df1[\"Country2\"].unique()\n",
    "\n",
    "#average grade for the test\n",
    "grades=[]\n",
    "for country in countries:\n",
    "    avg=np.mean(df1[\"value\"][df1[\"Country2\"]==country])\n",
    "    math=df1[\"value\"][(df1[\"variable\"]==\"Math\") & (df1[\"Country2\"]==country)]\n",
    "    read=df1[\"value\"][(df1[\"variable\"]==\"Read\") & (df1[\"Country2\"]==country)]\n",
    "    science=df1[\"value\"][(df1[\"variable\"]==\"Science\") & (df1[\"Country2\"]==country)] \n",
    "    grades.append([country,round(avg,2),float(math),float(read),float(science)])\n",
    "    \n",
    "results=pd.DataFrame(grades,columns=[\"Country\",\"avg grade\",\"math\",\"read\",\"science\"])"
   ]
  },
  {
   "cell_type": "code",
   "execution_count": 3,
   "metadata": {},
   "outputs": [],
   "source": [
    "#loading the csv and selecting the columns\n",
    "df2=pd.read_csv(\"2015.csv\")\n",
    "df2=df2[[\"Country\",\"Happiness Score\"]]\n",
    "\n",
    "#filteing the countries\n",
    "df2=df2[df2[\"Country\"].isin(countries)]"
   ]
  },
  {
   "cell_type": "code",
   "execution_count": 4,
   "metadata": {},
   "outputs": [],
   "source": [
    "#loading the csv and selecting the columns\n",
    "df3=pd.read_csv(\"HappinessAlcoholConsumption.csv\")\n",
    "df3=df3[[\"Country\",\"Region\",\"Hemisphere\",\"HDI\",\"Beer_PerCapita\"]]\n",
    "                \n",
    "#Correcting the capitalization and typing mistakes\n",
    "#countries that were capitalized as both(Brazil, Colombia, Ecuador,Peru and Kenya), will be renamed as south, given that this\n",
    "#countries have normally recognized as being in the south\n",
    "hemisphere={\"north\":\"North\",\"noth\":\"North\",\"south\":\"South\",\"both\":\"South\"}\n",
    "df3[\"Hemisphere\"]=df3[\"Hemisphere\"].map(hemisphere)\n",
    "\n",
    "#renaming the columns\n",
    "to_rename={\"Beer_PerCapita\":\"Beer per Capita\"}\n",
    "df3=df3.rename(columns=to_rename)\n",
    "\n",
    "#filtering the countries\n",
    "df3=df3[df3[\"Country\"].isin(countries)]"
   ]
  },
  {
   "cell_type": "code",
   "execution_count": 5,
   "metadata": {},
   "outputs": [],
   "source": [
    "#scraping the education index\n",
    "url=\"https://en.wikipedia.org/wiki/Education_Index#2015\"\n",
    "html=urlopen(url)\n",
    "soup=BeautifulSoup(html,\"html.parser\")\n",
    "\n",
    "data=[]\n",
    "table=soup.find(\"table\",class_=\"wikitable sortable\")\n",
    "for row in table.find_all(\"tr\"):\n",
    "    cells=row.find_all(\"td\")\n",
    "    try:\n",
    "        country=row.find(\"td\",align=\"left\").get_text().replace(\"\\xa0\",\"\").replace(\"\\n\",\"\")\n",
    "    except AttributeError:\n",
    "        pass\n",
    "    if len(cells)==6:\n",
    "        item=cells[2].find(text=True)\n",
    "        data.append([country,item])\n",
    "        \n",
    "df4=pd.DataFrame(data,columns=[\"Country\",\"Education\"])\n",
    "\n",
    "#filtering the countries\n",
    "df4=df4[df4[\"Country\"].isin(countries)]\n",
    "\n",
    "#changing the data type\n",
    "df4[\"Education\"]=df4[\"Education\"].astype(float)"
   ]
  },
  {
   "cell_type": "code",
   "execution_count": 6,
   "metadata": {},
   "outputs": [],
   "source": [
    "#scraping the Corruption Perception index\n",
    "url=\"https://en.wikipedia.org/wiki/Corruption_Perceptions_Index\"\n",
    "html=urlopen(url)\n",
    "soup=BeautifulSoup(html,\"html.parser\")\n",
    "\n",
    "data=[]\n",
    "table=soup.find(\"table\",class_=\"wikitable sortable\")\n",
    "for row in table.find_all(\"tr\"):\n",
    "    cells=row.find_all(\"td\")\n",
    "    try:\n",
    "        country=row.find(\"td\",style=\"text-align:left;\").get_text().replace(\"\\xa0\",\"\").replace(\"\\n\",\"\")\n",
    "    except AttributeError:\n",
    "        pass\n",
    "    if len(cells) == 15:\n",
    "        item=cells[2].find(text=True)\n",
    "        data.append([country,item])\n",
    "        \n",
    "df5=pd.DataFrame(data,columns=[\"Country\",\"Corruption\"])\n",
    "\n",
    "#filtering the countries\n",
    "df5=df5[df5[\"Country\"].isin(countries)]\n",
    "\n",
    "#changing the data type\n",
    "df5.Corruption=df5.Corruption.astype(int)"
   ]
  },
  {
   "cell_type": "code",
   "execution_count": 7,
   "metadata": {},
   "outputs": [],
   "source": [
    "#scraping the GDP per Capita\n",
    "url=\"https://en.wikipedia.org/wiki/List_of_countries_by_GDP_(PPP)_per_capita\"\n",
    "html=urlopen(url)\n",
    "soup=BeautifulSoup(html,\"html.parser\")\n",
    "\n",
    "data=[]\n",
    "table=soup.find(\"table\",class_=\"wikitable sortable\")\n",
    "for row in table.find_all(\"tr\"):\n",
    "    cells=row.find_all(\"td\")\n",
    "    try:\n",
    "        country=row.find(\"td\",align=\"left\").get_text().replace(\"\\xa0\",\"\").replace(\"\\n\",\"\")\n",
    "    except AttributeError:\n",
    "        pass\n",
    "    if len(cells) == 3:\n",
    "        item=cells[2].find(text=True).replace(\"\\n\",\"\").replace(\",\",\".\")\n",
    "        data.append([country,item])\n",
    "        \n",
    "df6=pd.DataFrame(data,columns=[\"Country\",\"GDP per Capita\"])\n",
    "\n",
    "#filtering the countries\n",
    "df6=df6[df6[\"Country\"].isin(countries)]\n",
    "\n",
    "#changing the data type\n",
    "df6[\"GDP per Capita\"]=df6[\"GDP per Capita\"].astype(float)"
   ]
  },
  {
   "cell_type": "code",
   "execution_count": 8,
   "metadata": {
    "scrolled": true
   },
   "outputs": [
    {
     "data": {
      "text/html": [
       "<div>\n",
       "<style scoped>\n",
       "    .dataframe tbody tr th:only-of-type {\n",
       "        vertical-align: middle;\n",
       "    }\n",
       "\n",
       "    .dataframe tbody tr th {\n",
       "        vertical-align: top;\n",
       "    }\n",
       "\n",
       "    .dataframe thead th {\n",
       "        text-align: right;\n",
       "    }\n",
       "</style>\n",
       "<table border=\"1\" class=\"dataframe\">\n",
       "  <thead>\n",
       "    <tr style=\"text-align: right;\">\n",
       "      <th></th>\n",
       "      <th>Country</th>\n",
       "      <th>avg grade</th>\n",
       "      <th>math</th>\n",
       "      <th>read</th>\n",
       "      <th>science</th>\n",
       "      <th>Happiness Score</th>\n",
       "      <th>Region</th>\n",
       "      <th>Hemisphere</th>\n",
       "      <th>HDI</th>\n",
       "      <th>Beer per Capita</th>\n",
       "      <th>Education</th>\n",
       "      <th>Corruption</th>\n",
       "      <th>GDP per Capita</th>\n",
       "    </tr>\n",
       "  </thead>\n",
       "  <tbody>\n",
       "    <tr>\n",
       "      <th>0</th>\n",
       "      <td>Albania</td>\n",
       "      <td>415.21</td>\n",
       "      <td>413.16</td>\n",
       "      <td>405.26</td>\n",
       "      <td>427.22</td>\n",
       "      <td>4.959</td>\n",
       "      <td>Central and Eastern Europe</td>\n",
       "      <td>North</td>\n",
       "      <td>782</td>\n",
       "      <td>89</td>\n",
       "      <td>0.715</td>\n",
       "      <td>36</td>\n",
       "      <td>13.345</td>\n",
       "    </tr>\n",
       "    <tr>\n",
       "      <th>1</th>\n",
       "      <td>Australia</td>\n",
       "      <td>502.26</td>\n",
       "      <td>493.90</td>\n",
       "      <td>502.90</td>\n",
       "      <td>509.99</td>\n",
       "      <td>7.284</td>\n",
       "      <td>Australia and New Zealand</td>\n",
       "      <td>South</td>\n",
       "      <td>938</td>\n",
       "      <td>261</td>\n",
       "      <td>0.939</td>\n",
       "      <td>77</td>\n",
       "      <td>52.373</td>\n",
       "    </tr>\n",
       "    <tr>\n",
       "      <th>2</th>\n",
       "      <td>Austria</td>\n",
       "      <td>492.22</td>\n",
       "      <td>496.74</td>\n",
       "      <td>484.87</td>\n",
       "      <td>495.04</td>\n",
       "      <td>7.200</td>\n",
       "      <td>Western Europe</td>\n",
       "      <td>North</td>\n",
       "      <td>906</td>\n",
       "      <td>279</td>\n",
       "      <td>0.820</td>\n",
       "      <td>76</td>\n",
       "      <td>52.137</td>\n",
       "    </tr>\n",
       "    <tr>\n",
       "      <th>3</th>\n",
       "      <td>Belgium</td>\n",
       "      <td>502.50</td>\n",
       "      <td>506.98</td>\n",
       "      <td>498.52</td>\n",
       "      <td>502.00</td>\n",
       "      <td>6.937</td>\n",
       "      <td>Western Europe</td>\n",
       "      <td>North</td>\n",
       "      <td>915</td>\n",
       "      <td>295</td>\n",
       "      <td>0.841</td>\n",
       "      <td>75</td>\n",
       "      <td>48.245</td>\n",
       "    </tr>\n",
       "    <tr>\n",
       "      <th>4</th>\n",
       "      <td>Bulgaria</td>\n",
       "      <td>439.56</td>\n",
       "      <td>441.19</td>\n",
       "      <td>431.72</td>\n",
       "      <td>445.77</td>\n",
       "      <td>4.218</td>\n",
       "      <td>Central and Eastern Europe</td>\n",
       "      <td>North</td>\n",
       "      <td>810</td>\n",
       "      <td>231</td>\n",
       "      <td>0.778</td>\n",
       "      <td>42</td>\n",
       "      <td>23.156</td>\n",
       "    </tr>\n",
       "  </tbody>\n",
       "</table>\n",
       "</div>"
      ],
      "text/plain": [
       "     Country  avg grade    math    read  science  Happiness Score  \\\n",
       "0    Albania     415.21  413.16  405.26   427.22            4.959   \n",
       "1  Australia     502.26  493.90  502.90   509.99            7.284   \n",
       "2    Austria     492.22  496.74  484.87   495.04            7.200   \n",
       "3    Belgium     502.50  506.98  498.52   502.00            6.937   \n",
       "4   Bulgaria     439.56  441.19  431.72   445.77            4.218   \n",
       "\n",
       "                       Region Hemisphere  HDI  Beer per Capita  Education  \\\n",
       "0  Central and Eastern Europe      North  782               89      0.715   \n",
       "1   Australia and New Zealand      South  938              261      0.939   \n",
       "2              Western Europe      North  906              279      0.820   \n",
       "3              Western Europe      North  915              295      0.841   \n",
       "4  Central and Eastern Europe      North  810              231      0.778   \n",
       "\n",
       "   Corruption  GDP per Capita  \n",
       "0          36          13.345  \n",
       "1          77          52.373  \n",
       "2          76          52.137  \n",
       "3          75          48.245  \n",
       "4          42          23.156  "
      ]
     },
     "execution_count": 8,
     "metadata": {},
     "output_type": "execute_result"
    }
   ],
   "source": [
    "#merging all the df's\n",
    "merge=pd.merge(df2,df3,on=\"Country\")\n",
    "merge=pd.merge(merge,df4,on=\"Country\")\n",
    "merge=pd.merge(merge,df5,on=\"Country\")\n",
    "merge=pd.merge(merge,df6,on=\"Country\")\n",
    "df=pd.merge(results,merge,on=\"Country\")\n",
    "df.head()"
   ]
  },
  {
   "cell_type": "markdown",
   "metadata": {},
   "source": [
    "This is how the final database looks like, with the indicators that will be used in the model and some features that will be used in the descriptive analysis of the average grade"
   ]
  },
  {
   "cell_type": "markdown",
   "metadata": {},
   "source": [
    "### Descriptive Analysis\n",
    "\n",
    "<br> The objective of plotting the grades is to have a easy visualization of the best and worst performers in the tests, while this is not the main objective of this project, it is a significant part in giving meaning to the existing data.\n",
    "<br> For this analysis the countries grades in each of the tests will be accessed and split into regions, to see if regions have similar performances or if there are higher performing locations."
   ]
  },
  {
   "cell_type": "code",
   "execution_count": 9,
   "metadata": {},
   "outputs": [
    {
     "data": {
      "image/png": "[encoded data removed]",
      "text/plain": [
       "<Figure size 432x288 with 1 Axes>"
      ]
     },
     "metadata": {},
     "output_type": "display_data"
    },
    {
     "data": {
      "image/png": "[encoded data removed]",
      "text/plain": [
       "<Figure size 432x288 with 1 Axes>"
      ]
     },
     "metadata": {},
     "output_type": "display_data"
    }
   ],
   "source": [
    "#plotting the grades per subject and average\n",
    "df_m=df.sort_values(\"math\")\n",
    "fig=plt.figure()\n",
    "ax1=fig.add_subplot(111)\n",
    "ax1.barh(df_m[\"Country\"][-6:-1],df_m[\"math\"][-6:-1])\n",
    "ax1.set_title(\"Top countries in the math test\")\n",
    "plt.show()\n",
    "\n",
    "fig=plt.figure()\n",
    "ax1=fig.add_subplot(111)\n",
    "ax1.barh(df_m[\"Country\"][0:5],df_m[\"math\"][0:5])\n",
    "ax1.set_title(\"Worst countries in the math test\")\n",
    "plt.show()"
   ]
  },
  {
   "cell_type": "code",
   "execution_count": 10,
   "metadata": {
    "scrolled": false
   },
   "outputs": [
    {
     "data": {
      "image/png": "[encoded data removed]",
      "text/plain": [
       "<Figure size 432x288 with 1 Axes>"
      ]
     },
     "metadata": {},
     "output_type": "display_data"
    },
    {
     "data": {
      "image/png": "[encoded data removed]",
      "text/plain": [
       "<Figure size 432x288 with 1 Axes>"
      ]
     },
     "metadata": {},
     "output_type": "display_data"
    }
   ],
   "source": [
    "#plotting the reading grade\n",
    "\n",
    "df_m=df.sort_values(\"read\")\n",
    "\n",
    "fig=plt.figure()\n",
    "ax1=fig.add_subplot(111)\n",
    "ax1.barh(df_m[\"Country\"][-6:-1],df_m[\"read\"][-6:-1])\n",
    "ax1.set_title(\"Top countries in the reading test\")\n",
    "plt.show()\n",
    "\n",
    "fig=plt.figure()\n",
    "ax1=fig.add_subplot(111)\n",
    "ax1.barh(df_m[\"Country\"][0:5],df_m[\"read\"][0:5])\n",
    "ax1.set_title(\"Worst countries in the reading test\")\n",
    "plt.show()"
   ]
  },
  {
   "cell_type": "code",
   "execution_count": 11,
   "metadata": {
    "scrolled": false
   },
   "outputs": [
    {
     "data": {
      "image/png": "[encoded data removed]",
      "text/plain": [
       "<Figure size 432x288 with 1 Axes>"
      ]
     },
     "metadata": {},
     "output_type": "display_data"
    },
    {
     "data": {
      "image/png": "[encoded data removed]",
      "text/plain": [
       "<Figure size 432x288 with 1 Axes>"
      ]
     },
     "metadata": {},
     "output_type": "display_data"
    }
   ],
   "source": [
    "df_m=df.sort_values(\"science\")\n",
    "fig=plt.figure()\n",
    "ax1=fig.add_subplot(111)\n",
    "ax1.barh(df_m[\"Country\"][-6:-1],df_m[\"science\"][-6:-1])\n",
    "ax1.set_title(\"Top countries in the science test\")\n",
    "plt.show()\n",
    "\n",
    "fig=plt.figure()\n",
    "ax1=fig.add_subplot(111)\n",
    "ax1.barh(df_m[\"Country\"][0:5],df_m[\"science\"][0:5])\n",
    "ax1.set_title(\"Worst countries in the science test\")\n",
    "plt.show()"
   ]
  },
  {
   "cell_type": "code",
   "execution_count": 12,
   "metadata": {
    "scrolled": false
   },
   "outputs": [
    {
     "data": {
      "image/png": "[encoded data removed]",
      "text/plain": [
       "<Figure size 432x288 with 1 Axes>"
      ]
     },
     "metadata": {},
     "output_type": "display_data"
    },
    {
     "data": {
      "image/png": "[encoded data removed]",
      "text/plain": [
       "<Figure size 432x288 with 1 Axes>"
      ]
     },
     "metadata": {},
     "output_type": "display_data"
    }
   ],
   "source": [
    "df_m=df.sort_values(\"avg grade\")\n",
    "fig=plt.figure()\n",
    "ax1=fig.add_subplot(111)\n",
    "ax1.barh(df_m[\"Country\"][-6:-1],df_m[\"avg grade\"][-6:-1])\n",
    "ax1.set_title(\"Countries with the highest average grade\")\n",
    "plt.show()\n",
    "\n",
    "fig=plt.figure()\n",
    "ax1=fig.add_subplot(111)\n",
    "ax1.barh(df_m[\"Country\"][0:5],df_m[\"avg grade\"][0:5])\n",
    "ax1.set_title(\"Countries with the worst average grade\")\n",
    "plt.show()"
   ]
  },
  {
   "cell_type": "markdown",
   "metadata": {},
   "source": [
    "The same pattern can be seen in all of the graphs above, the countries with the highest grades are well developed countries from North America, Europe and Asia that have high GDP, HDI and Education levels, while the countries with the lowest grades are from places with worse indicators like South America, Africa Southeast Asia and Eastern Europe"
   ]
  },
  {
   "cell_type": "code",
   "execution_count": 13,
   "metadata": {
    "scrolled": false
   },
   "outputs": [
    {
     "data": {
      "image/png": "[encoded data removed]",
      "text/plain": [
       "<Figure size 720x432 with 3 Axes>"
      ]
     },
     "metadata": {},
     "output_type": "display_data"
    }
   ],
   "source": [
    "#grade by region\n",
    "\n",
    "#getting the average grade for each region\n",
    "regions=df.groupby(\"Region\")[\"avg grade\"].mean()\n",
    "regions=regions.sort_values()\n",
    "\n",
    "education=df.groupby(\"Region\")[\"Education\"].mean()\n",
    "education=education.reindex(regions.index)\n",
    "\n",
    "#plotting the grade by region\n",
    "fig=plt.figure(figsize=(10,6))\n",
    "plt.title(\"Average Grade ane Average Education index by Region\",y=1.1)\n",
    "plt.gca().set_yticklabels(\"\")\n",
    "plt.gca().set_xticklabels(\"\")\n",
    "\n",
    "ax1=fig.add_subplot(121)\n",
    "ax1.barh(regions.index,regions)\n",
    "ax1.set_title(\"Average Grade\")\n",
    "ax1.set_xticklabels(\"\")\n",
    "\n",
    "ax2=fig.add_subplot(122)\n",
    "ax2.barh(education.index,education)\n",
    "ax2.set_title(\"Education\")\n",
    "ax2.set_yticklabels(\"\")\n",
    "ax2.set_xticklabels(\"\")\n",
    "\n",
    "plt.show()"
   ]
  },
  {
   "cell_type": "markdown",
   "metadata": {},
   "source": [
    "After the analysis from the highest and lowest grades clearly showed that there is significant difference in the grades between countries from various regions, so the appropriate measure was to compare the regions average grade and its education index.\n",
    "<br>\n",
    "<br>The first notable result comes from the fact that the highest average grade doesn't come from the region with the highest education index, this can happen because countries from Eastern Asia like China and South Korea have an educational method focused on high grades and test results, but it lacks on encouraging others characteristics like creativity and practical abilities. The result is that their education doesn't have the highest result, but their grades are the highest ones.\n",
    "<br>\n",
    "<br>On the other hand the region with the lowest average grade was Middle East and Northern Africa which was also the one with the worst education index, but this can be also a factor that this region is behind in many other indicators like HDI and GDP, so the problems may not be education specific but can range from many different areas."
   ]
  },
  {
   "cell_type": "markdown",
   "metadata": {},
   "source": [
    "### Predicting the test grade\n",
    "\n",
    "To elaborate the model, the first step was to conclude which variables are more relevant. The first step was to see which are the highest correlated variables, so with this in mind the correlation matrix was made.\n",
    "<br>\n",
    "<br> The next step was to start making the model and seeing which variables made the model more significant and robust."
   ]
  },
  {
   "cell_type": "code",
   "execution_count": 14,
   "metadata": {
    "scrolled": true
   },
   "outputs": [
    {
     "data": {
      "image/png": "[encoded data removed]",
      "text/plain": [
       "<Figure size 432x288 with 2 Axes>"
      ]
     },
     "metadata": {},
     "output_type": "display_data"
    }
   ],
   "source": [
    "#creating the correlation matrix\n",
    "corr=df.corr()\n",
    "plt.title(\"Correlation between the variables\")\n",
    "sns.heatmap(corr,xticklabels=corr.columns,yticklabels=corr.index)\n",
    "plt.show()"
   ]
  },
  {
   "cell_type": "markdown",
   "metadata": {},
   "source": [
    "The highest correlated variables with average grade are Education index, GDP per Capita, Corruption index and HDI. These variables can also be considered the ones with highest relevance for a country possible high grade in the test between the ones studied, so they will be used the model."
   ]
  },
  {
   "cell_type": "markdown",
   "metadata": {},
   "source": [
    "The first step was to see if the chosen variables have a linear relationship and if a log transformation can be used to improve its linearity."
   ]
  },
  {
   "cell_type": "code",
   "execution_count": 15,
   "metadata": {},
   "outputs": [
    {
     "data": {
      "image/png": "[encoded data removed]",
      "text/plain": [
       "<Figure size 432x288 with 4 Axes>"
      ]
     },
     "metadata": {},
     "output_type": "display_data"
    }
   ],
   "source": [
    "#education\n",
    "fig=plt.figure()\n",
    "fig.subplots_adjust(hspace=0.4,wspace=0.1)\n",
    "\n",
    "ax1=fig.add_subplot(221)\n",
    "ax1.set_title(\"Lin-Lin\")\n",
    "ax1.scatter(df[\"Education\"],df[\"avg grade\"])\n",
    "ax1.set_xticklabels(\"\")\n",
    "ax1.set_yticklabels(\"\")\n",
    "\n",
    "ax2=fig.add_subplot(222)\n",
    "ax2.set_title(\"Lin-Log\")\n",
    "ax2.scatter(df[\"Education\"],np.log(df[\"avg grade\"]))\n",
    "ax2.set_xticklabels(\"\")\n",
    "ax2.set_yticklabels(\"\")\n",
    "\n",
    "ax3=fig.add_subplot(223)\n",
    "ax3.set_title(\"Log-Lin\")\n",
    "ax3.scatter(np.log(df[\"Education\"]),df[\"avg grade\"])\n",
    "ax3.set_xticklabels(\"\")\n",
    "ax3.set_yticklabels(\"\")\n",
    "\n",
    "ax4=fig.add_subplot(224)\n",
    "ax4.set_title(\"Log-Log\")\n",
    "ax4.scatter(np.log(df[\"Education\"]),np.log(df[\"avg grade\"]))\n",
    "ax4.set_xticklabels(\"\")\n",
    "ax4.set_yticklabels(\"\")\n",
    "plt.show()\n",
    "\n",
    "#log-log is the closest one to linearity"
   ]
  },
  {
   "cell_type": "code",
   "execution_count": 16,
   "metadata": {},
   "outputs": [
    {
     "data": {
      "image/png": "[encoded data removed]",
      "text/plain": [
       "<Figure size 432x288 with 4 Axes>"
      ]
     },
     "metadata": {},
     "output_type": "display_data"
    }
   ],
   "source": [
    "#corruption\n",
    "fig=plt.figure()\n",
    "\n",
    "ax1=fig.add_subplot(221)\n",
    "ax1.set_title(\"Lin-Lin\")\n",
    "ax1.scatter(df[\"Corruption\"],df[\"avg grade\"])\n",
    "ax1.set_xticklabels(\"\")\n",
    "ax1.set_yticklabels(\"\")\n",
    "\n",
    "ax2=fig.add_subplot(222)\n",
    "ax2.set_title(\"Lin-Log\")\n",
    "ax2.scatter(df[\"Corruption\"],np.log(df[\"avg grade\"]))\n",
    "ax2.set_xticklabels(\"\")\n",
    "ax2.set_yticklabels(\"\")\n",
    "\n",
    "ax3=fig.add_subplot(223)\n",
    "ax3.set_title(\"Log-Lin\")\n",
    "ax3.scatter(np.log(df[\"Corruption\"]),df[\"avg grade\"])\n",
    "ax3.set_xticklabels(\"\")\n",
    "ax3.set_yticklabels(\"\")\n",
    "\n",
    "ax4=fig.add_subplot(224)\n",
    "ax4.set_title(\"Log-Log\")\n",
    "ax4.scatter(np.log(df[\"Corruption\"]),np.log(df[\"avg grade\"]))\n",
    "ax4.set_xticklabels(\"\")\n",
    "ax4.set_yticklabels(\"\")\n",
    "plt.show()\n",
    "\n",
    "#log-log is the best approximation"
   ]
  },
  {
   "cell_type": "code",
   "execution_count": 17,
   "metadata": {},
   "outputs": [
    {
     "data": {
      "image/png": "[encoded data removed]",
      "text/plain": [
       "<Figure size 432x288 with 4 Axes>"
      ]
     },
     "metadata": {},
     "output_type": "display_data"
    }
   ],
   "source": [
    "#HDI\n",
    "fig=plt.figure()\n",
    "\n",
    "ax1=fig.add_subplot(221)\n",
    "ax1.set_title(\"Lin-Lin\")\n",
    "ax1.scatter(df[\"HDI\"],df[\"avg grade\"])\n",
    "ax1.set_xticklabels(\"\")\n",
    "ax1.set_yticklabels(\"\")\n",
    "\n",
    "ax2=fig.add_subplot(222)\n",
    "ax2.set_title(\"Lin-Log\")\n",
    "ax2.scatter(df[\"HDI\"],np.log(df[\"avg grade\"]))\n",
    "ax2.set_xticklabels(\"\")\n",
    "ax2.set_yticklabels(\"\")\n",
    "\n",
    "ax3=fig.add_subplot(223)\n",
    "ax3.set_title(\"Log-Lin\")\n",
    "ax3.scatter(np.log(df[\"HDI\"]),df[\"avg grade\"])\n",
    "ax3.set_xticklabels(\"\")\n",
    "ax3.set_yticklabels(\"\")\n",
    "\n",
    "ax4=fig.add_subplot(224)\n",
    "ax4.set_title(\"Log-Log\")\n",
    "ax4.scatter(np.log(df[\"HDI\"]),np.log(df[\"avg grade\"]))\n",
    "ax4.set_xticklabels(\"\")\n",
    "ax4.set_yticklabels(\"\")\n",
    "plt.show()\n",
    "\n",
    "#log-log is the best transformation"
   ]
  },
  {
   "cell_type": "code",
   "execution_count": 18,
   "metadata": {},
   "outputs": [
    {
     "data": {
      "image/png": "[encoded data removed]",
      "text/plain": [
       "<Figure size 432x288 with 4 Axes>"
      ]
     },
     "metadata": {},
     "output_type": "display_data"
    }
   ],
   "source": [
    "#GDP per Captita\n",
    "fig=plt.figure()\n",
    "\n",
    "ax1=fig.add_subplot(221)\n",
    "ax1.set_title(\"Lin-Lin\")\n",
    "ax1.scatter(df[\"GDP per Capita\"],df[\"avg grade\"])\n",
    "ax1.set_xticklabels(\"\")\n",
    "ax1.set_yticklabels(\"\")\n",
    "\n",
    "ax2=fig.add_subplot(222)\n",
    "ax2.set_title(\"Lin-Log\")\n",
    "ax2.scatter(df[\"GDP per Capita\"],np.log(df[\"avg grade\"]))\n",
    "ax2.set_xticklabels(\"\")\n",
    "ax2.set_yticklabels(\"\")\n",
    "\n",
    "ax3=fig.add_subplot(223)\n",
    "ax3.set_title(\"Log-Lin\")\n",
    "ax3.scatter(np.log(df[\"GDP per Capita\"]),df[\"avg grade\"])\n",
    "ax3.set_xticklabels(\"\")\n",
    "ax3.set_yticklabels(\"\")\n",
    "\n",
    "ax4=fig.add_subplot(224)\n",
    "ax4.set_title(\"Log-Log\")\n",
    "ax4.scatter(np.log(df[\"GDP per Capita\"]),np.log(df[\"avg grade\"]))\n",
    "ax4.set_xticklabels(\"\")\n",
    "ax4.set_yticklabels(\"\")\n",
    "plt.show()\n",
    "\n",
    "#log-log is the best aproximation"
   ]
  },
  {
   "cell_type": "code",
   "execution_count": 19,
   "metadata": {
    "scrolled": false
   },
   "outputs": [
    {
     "name": "stdout",
     "output_type": "stream",
     "text": [
      "                            OLS Regression Results                            \n",
      "==============================================================================\n",
      "Dep. Variable:              avg grade   R-squared:                       0.704\n",
      "Model:                            OLS   Adj. R-squared:                  0.677\n",
      "Method:                 Least Squares   F-statistic:                     25.59\n",
      "Date:                Tue, 23 Apr 2019   Prob (F-statistic):           6.84e-11\n",
      "Time:                        18:47:35   Log-Likelihood:                 77.401\n",
      "No. Observations:                  48   AIC:                            -144.8\n",
      "Df Residuals:                      43   BIC:                            -135.4\n",
      "Df Model:                           4                                         \n",
      "Covariance Type:            nonrobust                                         \n",
      "==================================================================================\n",
      "                     coef    std err          t      P>|t|      [0.025      0.975]\n",
      "----------------------------------------------------------------------------------\n",
      "const              5.3874      3.035      1.775      0.083      -0.734      11.509\n",
      "Education          0.2883      0.169      1.709      0.095      -0.052       0.629\n",
      "HDI                0.0748      0.475      0.158      0.876      -0.882       1.032\n",
      "GDP per Capita     0.0554      0.043      1.298      0.201      -0.031       0.141\n",
      "Corruption         0.0336      0.051      0.661      0.512      -0.069       0.136\n",
      "==============================================================================\n",
      "Omnibus:                       29.741   Durbin-Watson:                   1.551\n",
      "Prob(Omnibus):                  0.000   Jarque-Bera (JB):               81.522\n",
      "Skew:                           1.596   Prob(JB):                     1.98e-18\n",
      "Kurtosis:                       8.529   Cond. No.                     3.65e+03\n",
      "==============================================================================\n",
      "\n",
      "Warnings:\n",
      "[1] Standard Errors assume that the covariance matrix of the errors is correctly specified.\n",
      "[2] The condition number is large, 3.65e+03. This might indicate that there are\n",
      "strong multicollinearity or other numerical problems.\n"
     ]
    }
   ],
   "source": [
    "#creating the model\n",
    "\n",
    "x=np.log(df[[\"Education\",\"HDI\",\"GDP per Capita\",\"Corruption\"]])\n",
    "y=np.log(df[\"avg grade\"])\n",
    "\n",
    "model=sm.OLS(y,sm.add_constant(x))\n",
    "model=model.fit()\n",
    "print(model.summary())"
   ]
  },
  {
   "cell_type": "code",
   "execution_count": 20,
   "metadata": {},
   "outputs": [
    {
     "data": {
      "text/html": [
       "<div>\n",
       "<style scoped>\n",
       "    .dataframe tbody tr th:only-of-type {\n",
       "        vertical-align: middle;\n",
       "    }\n",
       "\n",
       "    .dataframe tbody tr th {\n",
       "        vertical-align: top;\n",
       "    }\n",
       "\n",
       "    .dataframe thead th {\n",
       "        text-align: right;\n",
       "    }\n",
       "</style>\n",
       "<table border=\"1\" class=\"dataframe\">\n",
       "  <thead>\n",
       "    <tr style=\"text-align: right;\">\n",
       "      <th></th>\n",
       "      <th>VIF</th>\n",
       "      <th>variable</th>\n",
       "    </tr>\n",
       "  </thead>\n",
       "  <tbody>\n",
       "    <tr>\n",
       "      <th>0</th>\n",
       "      <td>11.032148</td>\n",
       "      <td>Education</td>\n",
       "    </tr>\n",
       "    <tr>\n",
       "      <th>1</th>\n",
       "      <td>597.586480</td>\n",
       "      <td>HDI</td>\n",
       "    </tr>\n",
       "    <tr>\n",
       "      <th>2</th>\n",
       "      <td>146.144945</td>\n",
       "      <td>GDP per Capita</td>\n",
       "    </tr>\n",
       "    <tr>\n",
       "      <th>3</th>\n",
       "      <td>704.041575</td>\n",
       "      <td>Corruption</td>\n",
       "    </tr>\n",
       "  </tbody>\n",
       "</table>\n",
       "</div>"
      ],
      "text/plain": [
       "          VIF        variable\n",
       "0   11.032148       Education\n",
       "1  597.586480             HDI\n",
       "2  146.144945  GDP per Capita\n",
       "3  704.041575      Corruption"
      ]
     },
     "execution_count": 20,
     "metadata": {},
     "output_type": "execute_result"
    }
   ],
   "source": [
    "#calculating the variance inflation factor(VIF) for the independent variables in the model\n",
    "\n",
    "vif=pd.DataFrame()\n",
    "vif[\"VIF\"]=[variance_inflation_factor(x.values,i) for i in range(x.shape[1])]\n",
    "vif[\"variable\"]=x.columns\n",
    "vif"
   ]
  },
  {
   "cell_type": "markdown",
   "metadata": {},
   "source": [
    "This is not a good model given that all of the independent variables are not relevant in a 5% significance level, so there are severe problems with the model.\n",
    "<br>\n",
    "<br> The first notable error in it is the multicollinearity between the independent variables, given that a warning has been issued and because of the high values for the VIF in multiple variables.\n",
    "<br>\n",
    "<br>The multicollinearity comes from the fact that the HDI is an index made using the life expectancy, education and the per capita income indicators, what makes in being correlated with both the education and GDP per Capita indicators. So, the HDI should be deleted from the model."
   ]
  },
  {
   "cell_type": "code",
   "execution_count": 21,
   "metadata": {
    "scrolled": false
   },
   "outputs": [
    {
     "name": "stdout",
     "output_type": "stream",
     "text": [
      "                            OLS Regression Results                            \n",
      "==============================================================================\n",
      "Dep. Variable:              avg grade   R-squared:                       0.704\n",
      "Model:                            OLS   Adj. R-squared:                  0.684\n",
      "Method:                 Least Squares   F-statistic:                     34.88\n",
      "Date:                Tue, 23 Apr 2019   Prob (F-statistic):           1.06e-11\n",
      "Time:                        18:47:35   Log-Likelihood:                 77.387\n",
      "No. Observations:                  48   AIC:                            -146.8\n",
      "Df Residuals:                      44   BIC:                            -139.3\n",
      "Df Model:                           3                                         \n",
      "Covariance Type:            nonrobust                                         \n",
      "==================================================================================\n",
      "                     coef    std err          t      P>|t|      [0.025      0.975]\n",
      "----------------------------------------------------------------------------------\n",
      "const              5.8650      0.168     34.827      0.000       5.526       6.204\n",
      "Education          0.3091      0.104      2.966      0.005       0.099       0.519\n",
      "GDP per Capita     0.0609      0.025      2.466      0.018       0.011       0.111\n",
      "Corruption         0.0367      0.046      0.793      0.432      -0.057       0.130\n",
      "==============================================================================\n",
      "Omnibus:                       29.357   Durbin-Watson:                   1.550\n",
      "Prob(Omnibus):                  0.000   Jarque-Bera (JB):               79.814\n",
      "Skew:                           1.575   Prob(JB):                     4.66e-18\n",
      "Kurtosis:                       8.476   Cond. No.                         146.\n",
      "==============================================================================\n",
      "\n",
      "Warnings:\n",
      "[1] Standard Errors assume that the covariance matrix of the errors is correctly specified.\n"
     ]
    },
    {
     "data": {
      "text/html": [
       "<div>\n",
       "<style scoped>\n",
       "    .dataframe tbody tr th:only-of-type {\n",
       "        vertical-align: middle;\n",
       "    }\n",
       "\n",
       "    .dataframe tbody tr th {\n",
       "        vertical-align: top;\n",
       "    }\n",
       "\n",
       "    .dataframe thead th {\n",
       "        text-align: right;\n",
       "    }\n",
       "</style>\n",
       "<table border=\"1\" class=\"dataframe\">\n",
       "  <thead>\n",
       "    <tr style=\"text-align: right;\">\n",
       "      <th></th>\n",
       "      <th>VIF</th>\n",
       "      <th>variable</th>\n",
       "    </tr>\n",
       "  </thead>\n",
       "  <tbody>\n",
       "    <tr>\n",
       "      <th>0</th>\n",
       "      <td>5.221133</td>\n",
       "      <td>Education</td>\n",
       "    </tr>\n",
       "    <tr>\n",
       "      <th>1</th>\n",
       "      <td>145.685090</td>\n",
       "      <td>GDP per Capita</td>\n",
       "    </tr>\n",
       "    <tr>\n",
       "      <th>2</th>\n",
       "      <td>174.596880</td>\n",
       "      <td>Corruption</td>\n",
       "    </tr>\n",
       "  </tbody>\n",
       "</table>\n",
       "</div>"
      ],
      "text/plain": [
       "          VIF        variable\n",
       "0    5.221133       Education\n",
       "1  145.685090  GDP per Capita\n",
       "2  174.596880      Corruption"
      ]
     },
     "execution_count": 21,
     "metadata": {},
     "output_type": "execute_result"
    }
   ],
   "source": [
    "#creating a new model without HDI\n",
    "x=np.log(df[[\"Education\",\"GDP per Capita\",\"Corruption\"]])\n",
    "y=np.log(df[\"avg grade\"])\n",
    "\n",
    "model=sm.OLS(y,sm.add_constant(x))\n",
    "model=model.fit()\n",
    "print(model.summary())\n",
    "\n",
    "vif=pd.DataFrame()\n",
    "vif[\"VIF\"]=[variance_inflation_factor(x.values,i) for i in range(x.shape[1])]\n",
    "vif[\"variable\"]=x.columns\n",
    "vif"
   ]
  },
  {
   "cell_type": "markdown",
   "metadata": {},
   "source": [
    "In the new model corruption still a variable with a high VIF and not relevant, so it should also be excluded from the model"
   ]
  },
  {
   "cell_type": "code",
   "execution_count": 22,
   "metadata": {
    "scrolled": false
   },
   "outputs": [
    {
     "name": "stdout",
     "output_type": "stream",
     "text": [
      "                            OLS Regression Results                            \n",
      "==============================================================================\n",
      "Dep. Variable:              avg grade   R-squared:                       0.700\n",
      "Model:                            OLS   Adj. R-squared:                  0.686\n",
      "Method:                 Least Squares   F-statistic:                     52.44\n",
      "Date:                Tue, 23 Apr 2019   Prob (F-statistic):           1.75e-12\n",
      "Time:                        18:47:35   Log-Likelihood:                 77.047\n",
      "No. Observations:                  48   AIC:                            -148.1\n",
      "Df Residuals:                      45   BIC:                            -142.5\n",
      "Df Model:                           2                                         \n",
      "Covariance Type:            nonrobust                                         \n",
      "==================================================================================\n",
      "                     coef    std err          t      P>|t|      [0.025      0.975]\n",
      "----------------------------------------------------------------------------------\n",
      "const              5.9800      0.085     70.250      0.000       5.809       6.151\n",
      "Education          0.3455      0.093      3.709      0.001       0.158       0.533\n",
      "GDP per Capita     0.0729      0.019      3.751      0.001       0.034       0.112\n",
      "==============================================================================\n",
      "Omnibus:                       30.282   Durbin-Watson:                   1.598\n",
      "Prob(Omnibus):                  0.000   Jarque-Bera (JB):               80.320\n",
      "Skew:                           1.655   Prob(JB):                     3.62e-18\n",
      "Kurtosis:                       8.404   Cond. No.                         62.8\n",
      "==============================================================================\n",
      "\n",
      "Warnings:\n",
      "[1] Standard Errors assume that the covariance matrix of the errors is correctly specified.\n"
     ]
    },
    {
     "data": {
      "text/html": [
       "<div>\n",
       "<style scoped>\n",
       "    .dataframe tbody tr th:only-of-type {\n",
       "        vertical-align: middle;\n",
       "    }\n",
       "\n",
       "    .dataframe tbody tr th {\n",
       "        vertical-align: top;\n",
       "    }\n",
       "\n",
       "    .dataframe thead th {\n",
       "        text-align: right;\n",
       "    }\n",
       "</style>\n",
       "<table border=\"1\" class=\"dataframe\">\n",
       "  <thead>\n",
       "    <tr style=\"text-align: right;\">\n",
       "      <th></th>\n",
       "      <th>VIF</th>\n",
       "      <th>variable</th>\n",
       "    </tr>\n",
       "  </thead>\n",
       "  <tbody>\n",
       "    <tr>\n",
       "      <th>0</th>\n",
       "      <td>3.059881</td>\n",
       "      <td>Education</td>\n",
       "    </tr>\n",
       "    <tr>\n",
       "      <th>1</th>\n",
       "      <td>3.059881</td>\n",
       "      <td>GDP per Capita</td>\n",
       "    </tr>\n",
       "  </tbody>\n",
       "</table>\n",
       "</div>"
      ],
      "text/plain": [
       "        VIF        variable\n",
       "0  3.059881       Education\n",
       "1  3.059881  GDP per Capita"
      ]
     },
     "execution_count": 22,
     "metadata": {},
     "output_type": "execute_result"
    }
   ],
   "source": [
    "#creating new model without corruption\n",
    "\n",
    "x=np.log(df[[\"Education\",\"GDP per Capita\"]])\n",
    "y=np.log(df[\"avg grade\"])\n",
    "\n",
    "model=sm.OLS(y,sm.add_constant(x))\n",
    "model=model.fit()\n",
    "print(model.summary())\n",
    "\n",
    "vif=pd.DataFrame()\n",
    "vif[\"VIF\"]=[variance_inflation_factor(x.values,i) for i in range(x.shape[1])]\n",
    "vif[\"variable\"]=x.columns\n",
    "vif"
   ]
  },
  {
   "cell_type": "markdown",
   "metadata": {},
   "source": [
    "Until this point this point the model looks relevant given that all the predictors are significant and that there is no strong sight of multicollinearity.\n",
    "<br>\n",
    "<br> Now the linear regression assumptions must be tested to guarantee that the model is good."
   ]
  },
  {
   "cell_type": "code",
   "execution_count": 23,
   "metadata": {},
   "outputs": [],
   "source": [
    "#using sklearn for the model predictions because it has better features\n",
    "\n",
    "x=np.log(df[[\"Education\",\"GDP per Capita\"]])\n",
    "y=np.log(df[\"avg grade\"])\n",
    "\n",
    "model=linear_model.LinearRegression()\n",
    "model.fit(x,y)\n",
    "\n",
    "df[\"predict\"]=model.predict(x)\n",
    "df[\"res\"]=y-df[\"predict\"]"
   ]
  },
  {
   "cell_type": "code",
   "execution_count": 24,
   "metadata": {
    "scrolled": true
   },
   "outputs": [
    {
     "data": {
      "image/png": "[encoded data removed]",
      "text/plain": [
       "<Figure size 432x288 with 1 Axes>"
      ]
     },
     "metadata": {},
     "output_type": "display_data"
    }
   ],
   "source": [
    "#Testing the linearity assumption\n",
    "\n",
    "plt.scatter(df[\"res\"],df[\"predict\"])\n",
    "plt.show()"
   ]
  },
  {
   "cell_type": "code",
   "execution_count": 25,
   "metadata": {},
   "outputs": [
    {
     "data": {
      "image/png": "[encoded data removed]",
      "text/plain": [
       "<Figure size 432x288 with 1 Axes>"
      ]
     },
     "metadata": {},
     "output_type": "display_data"
    }
   ],
   "source": [
    "#testing the independence assumption\n",
    "\n",
    "plt.plot(range(len(df[\"res\"])),df[\"res\"])\n",
    "plt.show()"
   ]
  },
  {
   "cell_type": "markdown",
   "metadata": {},
   "source": [
    "Both the graphs for the linearity and independence assumption show that there are outliers.\n",
    "<br>\n",
    "<br> Given that the data is relevant for the model and that the information is accurate, the outliers will be kept because some countries have particularities. One example can be Qatar's GDP per Capita which is inflated because the country is an oil exporter with a relatively small population, so their abundant natural resources in a sector that doesn´t need intensive labor led them to higher GDP per Capita."
   ]
  },
  {
   "cell_type": "code",
   "execution_count": 26,
   "metadata": {
    "scrolled": false
   },
   "outputs": [
    {
     "data": {
      "image/png": "[encoded data removed]",
      "text/plain": [
       "<Figure size 432x288 with 1 Axes>"
      ]
     },
     "metadata": {},
     "output_type": "display_data"
    }
   ],
   "source": [
    "#checking for the residuals normality\n",
    "\n",
    "plt.hist(df[\"res\"])\n",
    "plt.show()"
   ]
  },
  {
   "cell_type": "markdown",
   "metadata": {},
   "source": [
    "The assumption of normality gets verified by the histogram, but again there is one outlier, since this point kept appearing there must be a reason that the model severely underperforms for this point, so further research will be done to explain this country situation."
   ]
  },
  {
   "cell_type": "code",
   "execution_count": 27,
   "metadata": {},
   "outputs": [
    {
     "data": {
      "text/html": [
       "<div>\n",
       "<style scoped>\n",
       "    .dataframe tbody tr th:only-of-type {\n",
       "        vertical-align: middle;\n",
       "    }\n",
       "\n",
       "    .dataframe tbody tr th {\n",
       "        vertical-align: top;\n",
       "    }\n",
       "\n",
       "    .dataframe thead th {\n",
       "        text-align: right;\n",
       "    }\n",
       "</style>\n",
       "<table border=\"1\" class=\"dataframe\">\n",
       "  <thead>\n",
       "    <tr style=\"text-align: right;\">\n",
       "      <th></th>\n",
       "      <th>Country</th>\n",
       "      <th>avg grade</th>\n",
       "      <th>math</th>\n",
       "      <th>read</th>\n",
       "      <th>science</th>\n",
       "      <th>Happiness Score</th>\n",
       "      <th>Region</th>\n",
       "      <th>Hemisphere</th>\n",
       "      <th>HDI</th>\n",
       "      <th>Beer per Capita</th>\n",
       "      <th>Education</th>\n",
       "      <th>Corruption</th>\n",
       "      <th>GDP per Capita</th>\n",
       "      <th>predict</th>\n",
       "      <th>res</th>\n",
       "    </tr>\n",
       "  </thead>\n",
       "  <tbody>\n",
       "    <tr>\n",
       "      <th>41</th>\n",
       "      <td>Singapore</td>\n",
       "      <td>551.62</td>\n",
       "      <td>564.19</td>\n",
       "      <td>535.10</td>\n",
       "      <td>555.57</td>\n",
       "      <td>6.798</td>\n",
       "      <td>Southeastern Asia</td>\n",
       "      <td>North</td>\n",
       "      <td>930</td>\n",
       "      <td>60</td>\n",
       "      <td>0.814</td>\n",
       "      <td>85</td>\n",
       "      <td>100.345</td>\n",
       "      <td>6.244650</td>\n",
       "      <td>0.068209</td>\n",
       "    </tr>\n",
       "    <tr>\n",
       "      <th>15</th>\n",
       "      <td>Estonia</td>\n",
       "      <td>524.29</td>\n",
       "      <td>519.53</td>\n",
       "      <td>519.14</td>\n",
       "      <td>534.19</td>\n",
       "      <td>5.429</td>\n",
       "      <td>Central and Eastern Europe</td>\n",
       "      <td>North</td>\n",
       "      <td>868</td>\n",
       "      <td>224</td>\n",
       "      <td>0.877</td>\n",
       "      <td>73</td>\n",
       "      <td>34.096</td>\n",
       "      <td>6.191768</td>\n",
       "      <td>0.070277</td>\n",
       "    </tr>\n",
       "    <tr>\n",
       "      <th>36</th>\n",
       "      <td>Portugal</td>\n",
       "      <td>496.95</td>\n",
       "      <td>491.63</td>\n",
       "      <td>498.13</td>\n",
       "      <td>501.10</td>\n",
       "      <td>5.102</td>\n",
       "      <td>Western Europe</td>\n",
       "      <td>North</td>\n",
       "      <td>845</td>\n",
       "      <td>194</td>\n",
       "      <td>0.756</td>\n",
       "      <td>64</td>\n",
       "      <td>32.006</td>\n",
       "      <td>6.135860</td>\n",
       "      <td>0.072629</td>\n",
       "    </tr>\n",
       "    <tr>\n",
       "      <th>25</th>\n",
       "      <td>Japan</td>\n",
       "      <td>528.93</td>\n",
       "      <td>532.44</td>\n",
       "      <td>515.96</td>\n",
       "      <td>538.39</td>\n",
       "      <td>5.987</td>\n",
       "      <td>Eastern Asia</td>\n",
       "      <td>North</td>\n",
       "      <td>907</td>\n",
       "      <td>77</td>\n",
       "      <td>0.842</td>\n",
       "      <td>73</td>\n",
       "      <td>44.227</td>\n",
       "      <td>6.196649</td>\n",
       "      <td>0.074207</td>\n",
       "    </tr>\n",
       "    <tr>\n",
       "      <th>38</th>\n",
       "      <td>China</td>\n",
       "      <td>514.34</td>\n",
       "      <td>531.30</td>\n",
       "      <td>493.94</td>\n",
       "      <td>517.78</td>\n",
       "      <td>5.140</td>\n",
       "      <td>Eastern Asia</td>\n",
       "      <td>North</td>\n",
       "      <td>748</td>\n",
       "      <td>79</td>\n",
       "      <td>0.631</td>\n",
       "      <td>39</td>\n",
       "      <td>18.110</td>\n",
       "      <td>6.031923</td>\n",
       "      <td>0.210961</td>\n",
       "    </tr>\n",
       "  </tbody>\n",
       "</table>\n",
       "</div>"
      ],
      "text/plain": [
       "      Country  avg grade    math    read  science  Happiness Score  \\\n",
       "41  Singapore     551.62  564.19  535.10   555.57            6.798   \n",
       "15    Estonia     524.29  519.53  519.14   534.19            5.429   \n",
       "36   Portugal     496.95  491.63  498.13   501.10            5.102   \n",
       "25      Japan     528.93  532.44  515.96   538.39            5.987   \n",
       "38      China     514.34  531.30  493.94   517.78            5.140   \n",
       "\n",
       "                        Region Hemisphere  HDI  Beer per Capita  Education  \\\n",
       "41           Southeastern Asia      North  930               60      0.814   \n",
       "15  Central and Eastern Europe      North  868              224      0.877   \n",
       "36              Western Europe      North  845              194      0.756   \n",
       "25                Eastern Asia      North  907               77      0.842   \n",
       "38                Eastern Asia      North  748               79      0.631   \n",
       "\n",
       "    Corruption  GDP per Capita   predict       res  \n",
       "41          85         100.345  6.244650  0.068209  \n",
       "15          73          34.096  6.191768  0.070277  \n",
       "36          64          32.006  6.135860  0.072629  \n",
       "25          73          44.227  6.196649  0.074207  \n",
       "38          39          18.110  6.031923  0.210961  "
      ]
     },
     "execution_count": 27,
     "metadata": {},
     "output_type": "execute_result"
    }
   ],
   "source": [
    "#identifing the country\n",
    "\n",
    "df_sorted=df.sort_values(by=\"res\")\n",
    "df_sorted.tail()"
   ]
  },
  {
   "cell_type": "markdown",
   "metadata": {},
   "source": [
    "After further analysis the country that severely outperformed the model was China, so we will dive deep into its characteristics to see why this happened.\n",
    "<br>\n",
    "<br>The first significant factor is that the data from China only comes from four different provinces / municipalities: Beijing, Guangdong, Jiangsu and Shanghai, while other provinces also take the test, their results are not disclosed for the general public because the government don't allow the publication. A significant factor in these areas where the results were published is that these are economic powerhouses. Taking by example Shanghai which has better educational and economic indicators than the rest of China.\n",
    "<br>\n",
    "<br> Another significant factor is that the Chinese education system focus heavily into preparing students for test taking over acquiring practical knowledge and abilities. This led to a culture where achieving high grades is a must and drives parents to invest into their children's education outside of school. The result of this is that China can achieve high grades in the test while maintaining worst general indicators.\n",
    "<br>\n",
    "<br>For this reasons, the Chinese grade in the Pisa test can be described as biased, because only the results of the socioeconomic elite of the country is in the test. Consequently this result cannot be compared to the other countries where the sample includes multiple different backgrounds, leading to a grade more similar to reality. Thus the Chinese grade can be considered a wrong measure and can be deleted from the data so the model can be more precise and adequate."
   ]
  },
  {
   "cell_type": "code",
   "execution_count": 28,
   "metadata": {
    "scrolled": false
   },
   "outputs": [
    {
     "name": "stdout",
     "output_type": "stream",
     "text": [
      "                            OLS Regression Results                            \n",
      "==============================================================================\n",
      "Dep. Variable:              avg grade   R-squared:                       0.831\n",
      "Model:                            OLS   Adj. R-squared:                  0.823\n",
      "Method:                 Least Squares   F-statistic:                     108.3\n",
      "Date:                Tue, 23 Apr 2019   Prob (F-statistic):           1.02e-17\n",
      "Time:                        18:47:36   Log-Likelihood:                 88.867\n",
      "No. Observations:                  47   AIC:                            -171.7\n",
      "Df Residuals:                      44   BIC:                            -166.2\n",
      "Df Model:                           2                                         \n",
      "Covariance Type:            nonrobust                                         \n",
      "==================================================================================\n",
      "                     coef    std err          t      P>|t|      [0.025      0.975]\n",
      "----------------------------------------------------------------------------------\n",
      "const              6.0275      0.065     93.432      0.000       5.897       6.158\n",
      "Education          0.4650      0.073      6.381      0.000       0.318       0.612\n",
      "GDP per Capita     0.0653      0.015      4.457      0.000       0.036       0.095\n",
      "==============================================================================\n",
      "Omnibus:                        1.719   Durbin-Watson:                   1.691\n",
      "Prob(Omnibus):                  0.423   Jarque-Bera (JB):                1.530\n",
      "Skew:                           0.429   Prob(JB):                        0.465\n",
      "Kurtosis:                       2.791   Cond. No.                         63.9\n",
      "==============================================================================\n",
      "\n",
      "Warnings:\n",
      "[1] Standard Errors assume that the covariance matrix of the errors is correctly specified.\n"
     ]
    }
   ],
   "source": [
    "#new database without china\n",
    "df_china=df[df[\"Country\"] != \"China\"]\n",
    "\n",
    "#creating the new model without the chinese data\n",
    "\n",
    "x=np.log(df_china[[\"Education\",\"GDP per Capita\"]])\n",
    "y=np.log(df_china[\"avg grade\"])\n",
    "\n",
    "model=sm.OLS(y,sm.add_constant(x))\n",
    "model=model.fit()\n",
    "print(model.summary())"
   ]
  },
  {
   "cell_type": "markdown",
   "metadata": {},
   "source": [
    "After deleting China from the database the model improves a significant amount, what can be seen in by a increased R-squared, showing that excluding China from the model was a good idea."
   ]
  },
  {
   "cell_type": "markdown",
   "metadata": {},
   "source": [
    "## Conclusion\n",
    "\n",
    "<br> The final model is:\n",
    "\n",
    "$$ ln(PisaGrade)=0.4650*ln(Education) + 0.0653*ln(GDP per Capita)+6.0275 $$\n",
    "\n",
    "From the model we can conclude that a country without GDP expected Pisa grade would be 414.67 ($ e^{6.0275} $), a grade that would put the country between the worst performing countries. An 1% increase in Education would result in an expected 1.59 increase in the grade, while and 1% increase in GDP per Capita would result in an expected 1.06 increase in the grade.\n",
    "<br>\n",
    "<br>The regression model shows that while increasing GDP per Capita is a valid way to increase the country performance, direct investments into improving the education is the best way to increase the result. This shows that direct investments into education are the best way to increase the grade, but investments into developing the socioeconomic environment is also a valid way to improve results, showing that better economical, political and social indexes carry over to better education.\n",
    "<br>\n",
    "<br>Another conclusion that can be infered from this project is that the high performing countries in the Pisa test are not the ones with the best education index, but the ones that have a good education combined with high GDP per Capita. The explanation for this comes from two main factors: that students with enough familiar income can focus on their studies without the need for working to support their families, and because higher education quality can be a sign of better schooling systems, the example of this is Eastern Asia, the best performing region in the test."
   ]
  },
  {
   "cell_type": "markdown",
   "metadata": {},
   "source": [
    "# Resources\n",
    "\n",
    "https://www.brookings.edu/research/pisas-china-problem/\n",
    "<br>http://www.sixthtone.com/news/1659/outside-shanghai%2C-china-fails-to-ace-pisa-test/\n",
    "<br>https://www.oecd.org/pisa/PISA-2015-china.pdf"
   ]
  }
 ],
 "metadata": {
  "kernelspec": {
   "display_name": "Python 3",
   "language": "python",
   "name": "python3"
  },
  "language_info": {
   "codemirror_mode": {
    "name": "ipython",
    "version": 3
   },
   "file_extension": ".py",
   "mimetype": "text/x-python",
   "name": "python",
   "nbconvert_exporter": "python",
   "pygments_lexer": "ipython3",
   "version": "3.6.2"
  }
 },
 "nbformat": 4,
 "nbformat_minor": 2
}
